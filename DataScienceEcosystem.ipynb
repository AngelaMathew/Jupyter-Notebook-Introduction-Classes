{
 "cells": [
  {
   "cell_type": "markdown",
   "id": "8d3dfa35",
   "metadata": {},
   "source": [
    "# Data science Tools and Ecosystems"
   ]
  },
  {
   "cell_type": "markdown",
   "id": "faacc3b9",
   "metadata": {},
   "source": [
    "## Introduction\n",
    "In this notebook , data science tools na decosystems are summarized"
   ]
  },
  {
   "cell_type": "markdown",
   "id": "789e04f2",
   "metadata": {},
   "source": [
    "## Data science languages\n",
    "### Some of the data sciene languages are:\n",
    "    1. R\n",
    "    2. Python\n",
    "    3. c++\n",
    "    4. Matlab\n",
    "    "
   ]
  },
  {
   "cell_type": "markdown",
   "id": "0d3cee41",
   "metadata": {},
   "source": [
    "### Some of the commonly used libraries by data scientists include:\n",
    "\n",
    "1. SciPy\n",
    "2. Tensorflow\n",
    "3. Keras"
   ]
  },
  {
   "cell_type": "markdown",
   "id": "b63c489c",
   "metadata": {},
   "source": [
    "### Data science tools\n",
    "\n",
    "|Data Science Tools|\n",
    "|------------------|\n",
    "|Pandas|\n",
    "|Seaborn|\n",
    "|Numpy|"
   ]
  },
  {
   "cell_type": "markdown",
   "id": "8dd91a2d",
   "metadata": {},
   "source": [
    "### Below are few examples of evaluating arithmetic expressions in python\n",
    "$$ (a*b)+c$$"
   ]
  },
  {
   "cell_type": "code",
   "execution_count": 8,
   "id": "84cf9584",
   "metadata": {},
   "outputs": [
    {
     "data": {
      "text/plain": [
       "17"
      ]
     },
     "execution_count": 8,
     "metadata": {},
     "output_type": "execute_result"
    }
   ],
   "source": [
    "# This is a simple arithmetic expression to multiply and add integers\n",
    "(3*4)+5"
   ]
  },
  {
   "cell_type": "code",
   "execution_count": 10,
   "id": "5908891d",
   "metadata": {},
   "outputs": [
    {
     "name": "stdout",
     "output_type": "stream",
     "text": [
      "converted form of 200 minutes is 3.33\n"
     ]
    }
   ],
   "source": [
    "import numpy as np\n",
    "def MinutestoHoursConverter(a):\n",
    "    return np.round(a/60,2)\n",
    "\n",
    "print(\"converted form of 200 minutes is\", MinutestoHoursConverter(200))\n",
    "\n"
   ]
  },
  {
   "cell_type": "markdown",
   "id": "d78c5c9e",
   "metadata": {},
   "source": [
    "**Objectives**\n",
    "* Data Science tools and ecosystems\n",
    "* Introduction\n",
    "* Data science languages\n",
    "* Tools used \n",
    "* Using arithmetic expressions\n",
    "* Inserting tables\n",
    "* Evaluating arithmetic expressions"
   ]
  },
  {
   "cell_type": "markdown",
   "id": "59aa522a",
   "metadata": {},
   "source": [
    "## Author\n",
    "Angela Mathew"
   ]
  },
  {
   "cell_type": "code",
   "execution_count": null,
   "id": "fac940a0",
   "metadata": {},
   "outputs": [],
   "source": []
  }
 ],
 "metadata": {
  "kernelspec": {
   "display_name": "Python 3",
   "language": "python",
   "name": "python3"
  },
  "language_info": {
   "codemirror_mode": {
    "name": "ipython",
    "version": 3
   },
   "file_extension": ".py",
   "mimetype": "text/x-python",
   "name": "python",
   "nbconvert_exporter": "python",
   "pygments_lexer": "ipython3",
   "version": "3.8.8"
  }
 },
 "nbformat": 4,
 "nbformat_minor": 5
}
